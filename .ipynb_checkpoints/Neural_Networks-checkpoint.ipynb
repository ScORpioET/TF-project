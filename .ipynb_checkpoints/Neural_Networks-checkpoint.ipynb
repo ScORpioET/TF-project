{
 "cells": [
  {
   "cell_type": "markdown",
   "metadata": {
    "colab_type": "text",
    "id": "view-in-github"
   },
   "source": [
    "<a href=\"https://colab.research.google.com/github/ScORpioET/TF-project/blob/main/Neural_Networks.ipynb\" target=\"_parent\"><img src=\"https://colab.research.google.com/assets/colab-badge.svg\" alt=\"Open In Colab\"/></a>"
   ]
  },
  {
   "cell_type": "code",
   "execution_count": 1,
   "metadata": {
    "id": "VI0BcPcs0YeC"
   },
   "outputs": [],
   "source": [
    "import tensorflow as tf\n",
    "from tensorflow import keras\n",
    "\n",
    "import numpy as np\n",
    "import matplotlib.pyplot as plt"
   ]
  },
  {
   "cell_type": "markdown",
   "metadata": {
    "id": "ITAPmyK61wyh"
   },
   "source": [
    "### DataSet\n",
    "MNIST Fashion Dataset，由keras提供"
   ]
  },
  {
   "cell_type": "code",
   "execution_count": 25,
   "metadata": {
    "id": "zQOn49Ip1wo5"
   },
   "outputs": [],
   "source": [
    "fashion_mnist = keras.datasets.fashion_mnist  # load dataset\n",
    "\n",
    "(train_images, train_labels), (test_images, test_labels) = fashion_mnist.load_data()  # 分成tetsing&training"
   ]
  },
  {
   "cell_type": "code",
   "execution_count": 26,
   "metadata": {
    "colab": {
     "base_uri": "https://localhost:8080/"
    },
    "id": "z7JBHOQ52E0T",
    "outputId": "a0884dc1-3f06-4ce2-e593-56282d68e3b5"
   },
   "outputs": [
    {
     "name": "stdout",
     "output_type": "stream",
     "text": [
      "[9 0 0 3 0 2 7 2 5 5]\n"
     ]
    }
   ],
   "source": [
    "print(train_labels[:10])\n",
    "\n",
    "class_names = ['T-shirt/top', 'Trouser', 'Pullover', 'Dress', 'Coat',\n",
    "               'Sandal', 'Shirt', 'Sneaker', 'Bag', 'Ankle boot']\n",
    "# 每個整數代表一件特定的衣服。我們將創建一個標籤名稱數組來指示哪個是哪個。"
   ]
  },
  {
   "cell_type": "code",
   "execution_count": 34,
   "metadata": {
    "colab": {
     "base_uri": "https://localhost:8080/",
     "height": 265
    },
    "id": "M1QwXfGZ3Jf6",
    "outputId": "29177a8c-855c-44f2-b6f5-8bbde44054e7"
   },
   "outputs": [
    {
     "data": {
      "image/png": "[encoded data removed]",
      "text/plain": [
       "<Figure size 432x288 with 2 Axes>"
      ]
     },
     "metadata": {
      "needs_background": "light"
     },
     "output_type": "display_data"
    }
   ],
   "source": [
    "plt.figure()\n",
    "plt.imshow(train_images[10])\n",
    "plt.colorbar()\n",
    "plt.grid(False)\n",
    "plt.show()"
   ]
  },
  {
   "cell_type": "markdown",
   "metadata": {
    "id": "DOGFsiX94sDN"
   },
   "source": [
    "### Data Preprocessing\n",
    "\n",
    "希望將每筆輸入都介於0和1之間，因權重會隨機介於0和1之間，值太大會使分類更加困難"
   ]
  },
  {
   "cell_type": "code",
   "execution_count": 35,
   "metadata": {
    "id": "stDRQa_B4zfe"
   },
   "outputs": [],
   "source": [
    "train_images = train_images / 255.0\n",
    "\n",
    "test_images = test_images / 255.0"
   ]
  },
  {
   "cell_type": "markdown",
   "metadata": {
    "id": "fIB8S5l55kX7"
   },
   "source": [
    "### Building the Model\n",
    "\n"
   ]
  },
  {
   "cell_type": "code",
   "execution_count": 36,
   "metadata": {
    "id": "bjHpn5735n5-"
   },
   "outputs": [],
   "source": [
    "model = keras.Sequential([\n",
    "    # Flatten：將多維延展至一維\n",
    "    keras.layers.Flatten(input_shape=(28, 28)),  # input layer\n",
    "    # Dense：前一層的所有node都會連接這一層的每個node\n",
    "    keras.layers.Dense(128, activation='relu'),  # hidden layer\n",
    "    keras.layers.Dense(10, activation='softmax') # output layer\n",
    "])"
   ]
  },
  {
   "cell_type": "markdown",
   "metadata": {
    "id": "GzKflCMO6-2y"
   },
   "source": [
    "### Compile the Model"
   ]
  },
  {
   "cell_type": "code",
   "execution_count": 37,
   "metadata": {
    "id": "IVlVhVOg6_h4"
   },
   "outputs": [],
   "source": [
    "model.compile(optimizer='adam', # adam，梯度下降的延伸\n",
    "       loss='sparse_categorical_crossentropy', # 損失函數選擇\n",
    "       metrics=['accuracy'])# 我們要的東西"
   ]
  },
  {
   "cell_type": "markdown",
   "metadata": {
    "id": "Uz3nG-If7wci"
   },
   "source": [
    "### Training"
   ]
  },
  {
   "cell_type": "code",
   "execution_count": 45,
   "metadata": {
    "colab": {
     "base_uri": "https://localhost:8080/"
    },
    "id": "2a9tN1to7x8A",
    "outputId": "4befb3b8-aae8-48d6-e82c-68ad8d06a6cc"
   },
   "outputs": [
    {
     "name": "stdout",
     "output_type": "stream",
     "text": [
      "Epoch 1/5\n",
      "1875/1875 [==============================] - 4s 2ms/step - loss: 0.0462 - accuracy: 0.9832\n",
      "Epoch 2/5\n",
      "1875/1875 [==============================] - 4s 2ms/step - loss: 0.0427 - accuracy: 0.9842\n",
      "Epoch 3/5\n",
      "1875/1875 [==============================] - 4s 2ms/step - loss: 0.0445 - accuracy: 0.9825\n",
      "Epoch 4/5\n",
      "1875/1875 [==============================] - 4s 2ms/step - loss: 0.0475 - accuracy: 0.9825\n",
      "Epoch 5/5\n",
      "1875/1875 [==============================] - 5s 2ms/step - loss: 0.0451 - accuracy: 0.9834\n"
     ]
    },
    {
     "data": {
      "text/plain": [
       "<keras.callbacks.History at 0x7fe0871f00d0>"
      ]
     },
     "execution_count": 45,
     "metadata": {},
     "output_type": "execute_result"
    }
   ],
   "source": [
    "model.fit(train_images, train_labels, epochs=5)"
   ]
  },
  {
   "cell_type": "markdown",
   "metadata": {
    "id": "AZppfu_L8D3w"
   },
   "source": [
    "### Evaluating"
   ]
  },
  {
   "cell_type": "code",
   "execution_count": 46,
   "metadata": {
    "colab": {
     "base_uri": "https://localhost:8080/"
    },
    "id": "FpHyCv9c8FPk",
    "outputId": "368b5d35-bffa-4898-e698-44b01db0786f"
   },
   "outputs": [
    {
     "name": "stdout",
     "output_type": "stream",
     "text": [
      "313/313 [==============================] - 1s 2ms/step - loss: 0.8330 - accuracy: 0.8885\n",
      "Test accuracy: 0.8884999752044678\n"
     ]
    }
   ],
   "source": [
    "test_loss, test_acc = model.evaluate(test_images,  test_labels, verbose=1) # verbose，cosole會顯示不一樣的東西，有0~2，默認1\n",
    "\n",
    "print('Test accuracy:', test_acc)"
   ]
  },
  {
   "cell_type": "markdown",
   "metadata": {
    "id": "BlGDxCW9_6bk"
   },
   "source": [
    "### Predictions"
   ]
  },
  {
   "cell_type": "code",
   "execution_count": 57,
   "metadata": {
    "colab": {
     "base_uri": "https://localhost:8080/",
     "height": 321
    },
    "id": "i0J57_RE_7GM",
    "outputId": "5293b1ff-0606-469c-d58d-bd8fdea87635"
   },
   "outputs": [
    {
     "name": "stdout",
     "output_type": "stream",
     "text": [
      "[5.4583105e-12 1.5486856e-26 2.3664758e-03 3.2312251e-18 9.9755764e-01\n",
      " 2.1240816e-19 7.5859207e-05 1.0581635e-20 1.3567098e-20 4.2752358e-14]\n",
      "Coat\n"
     ]
    },
    {
     "data": {
      "image/png": "[encoded data removed]",
      "text/plain": [
       "<Figure size 432x288 with 2 Axes>"
      ]
     },
     "metadata": {
      "needs_background": "light"
     },
     "output_type": "display_data"
    }
   ],
   "source": [
    "predictions = model.predict(test_images)\n",
    "\n",
    "\n",
    "print(predictions[10]) # 輸出層結果\n",
    "\n",
    "print(class_names[np.argmax(predictions[10])]) # 返回Max Value\n",
    "\n",
    "plt.figure()\n",
    "plt.imshow(test_images[10])\n",
    "plt.colorbar()\n",
    "plt.grid(False)\n",
    "plt.show()"
   ]
  }
 ],
 "metadata": {
  "accelerator": "GPU",
  "colab": {
   "authorship_tag": "ABX9TyO8A1i2KDoj2r/70AaPsNdR",
   "include_colab_link": true,
   "provenance": []
  },
  "kernelspec": {
   "display_name": "Python 3 (ipykernel)",
   "language": "python",
   "name": "python3"
  },
  "language_info": {
   "codemirror_mode": {
    "name": "ipython",
    "version": 3
   },
   "file_extension": ".py",
   "mimetype": "text/x-python",
   "name": "python",
   "nbconvert_exporter": "python",
   "pygments_lexer": "ipython3",
   "version": "3.7.9"
  },
  "vscode": {
   "interpreter": {
    "hash": "5e1a174256c263760b575b6d15e7e8707d8f944a16c6687434a30f600764344b"
   }
  }
 },
 "nbformat": 4,
 "nbformat_minor": 1
}
