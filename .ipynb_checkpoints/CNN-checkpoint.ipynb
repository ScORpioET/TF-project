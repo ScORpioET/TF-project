{
 "cells": [
  {
   "cell_type": "markdown",
   "metadata": {
    "colab_type": "text",
    "id": "view-in-github"
   },
   "source": [
    "<a href=\"https://colab.research.google.com/github/ScORpioET/TF-project/blob/main/CNN.ipynb\" target=\"_parent\"><img src=\"https://colab.research.google.com/assets/colab-badge.svg\" alt=\"Open In Colab\"/></a>"
   ]
  },
  {
   "cell_type": "markdown",
   "metadata": {
    "id": "mq75KKdU_Ltw"
   },
   "source": [
    "# CNN"
   ]
  },
  {
   "cell_type": "code",
   "execution_count": 1,
   "metadata": {
    "id": "493EQ5_YEmj2"
   },
   "outputs": [],
   "source": [
    "import tensorflow as tf\n",
    "\n",
    "from tensorflow.keras import datasets, layers, models\n",
    "import matplotlib.pyplot as plt"
   ]
  },
  {
   "cell_type": "code",
   "execution_count": null,
   "metadata": {
    "id": "qYm9PwWS9cqw"
   },
   "outputs": [],
   "source": [
    "#  載入&分割DataSet\n",
    "(train_images, train_labels), (test_images, test_labels) = datasets.cifar10.load_data()\n",
    "\n",
    "# 正規化\n",
    "train_images, test_images = train_images / 255.0, test_images / 255.0\n",
    "\n",
    "class_names = ['airplane', 'automobile', 'bird', 'cat', 'deer',\n",
    "               'dog', 'frog', 'horse', 'ship', 'truck']"
   ]
  },
  {
   "cell_type": "code",
   "execution_count": null,
   "metadata": {
    "colab": {
     "base_uri": "https://localhost:8080/",
     "height": 280
    },
    "id": "sjtJDWYy-BXo",
    "outputId": "667f796f-ee2a-41bf-cbde-ab211aa26d8b"
   },
   "outputs": [],
   "source": [
    "IMG_INDEX = 30\n",
    "\n",
    "plt.imshow(train_images[IMG_INDEX] ,cmap=plt.cm.binary)\n",
    "plt.xlabel(class_names[train_labels[IMG_INDEX][0]])\n",
    "plt.show()"
   ]
  },
  {
   "cell_type": "markdown",
   "metadata": {
    "id": "rp-Aq1QS_OnE"
   },
   "source": [
    "## Architecture"
   ]
  },
  {
   "cell_type": "code",
   "execution_count": null,
   "metadata": {
    "id": "GPVcvcjY_Yx-"
   },
   "outputs": [],
   "source": [
    "model = models.Sequential()\n",
    "#Conv2D(Num of Filter, Filter Size) ，只有Input需要設定input_shape\n",
    "model.add(layers.Conv2D(32, (3, 3), activation='relu', input_shape=(32, 32, 3)))\n",
    "model.add(layers.MaxPooling2D((2, 2)))\n",
    "model.add(layers.Conv2D(64, (3, 3), activation='relu'))\n",
    "model.add(layers.MaxPooling2D((2, 2)))\n",
    "model.add(layers.Conv2D(64, (3, 3), activation='relu'))"
   ]
  },
  {
   "cell_type": "code",
   "execution_count": null,
   "metadata": {
    "id": "rUmNT_l8D-KV"
   },
   "outputs": [],
   "source": [
    "model.add(layers.Flatten())\n",
    "model.add(layers.Dense(64, activation='relu'))\n",
    "model.add(layers.Dense(10))"
   ]
  },
  {
   "cell_type": "code",
   "execution_count": null,
   "metadata": {
    "colab": {
     "base_uri": "https://localhost:8080/"
    },
    "id": "7Oh7TQpCA4Kc",
    "outputId": "cd816ea5-4bd5-4682-f482-0f30ceec99dc"
   },
   "outputs": [],
   "source": [
    "model.summary()# 沒有Padding，所以shape會越來越小"
   ]
  },
  {
   "cell_type": "markdown",
   "metadata": {
    "id": "yovsyC0OEZAw"
   },
   "source": [
    "## Training"
   ]
  },
  {
   "cell_type": "code",
   "execution_count": null,
   "metadata": {
    "colab": {
     "base_uri": "https://localhost:8080/"
    },
    "id": "UtxeAOd2Ea_F",
    "outputId": "33934945-fede-4a7a-912f-3aca19c1d90c"
   },
   "outputs": [],
   "source": [
    "model.compile(optimizer='adam',\n",
    "              loss=tf.keras.losses.SparseCategoricalCrossentropy(from_logits=True),\n",
    "              metrics=['accuracy'])\n",
    "\n",
    "history = model.fit(train_images, train_labels, epochs=1, \n",
    "                    validation_data=(test_images, test_labels))"
   ]
  },
  {
   "cell_type": "markdown",
   "metadata": {
    "id": "C0STfvObO3-7"
   },
   "source": [
    "## Evaluating"
   ]
  },
  {
   "cell_type": "code",
   "execution_count": null,
   "metadata": {
    "colab": {
     "base_uri": "https://localhost:8080/"
    },
    "id": "LODWr29fOcZw",
    "outputId": "3ce0655b-c8fa-4652-a9f9-2475b04f88ad"
   },
   "outputs": [],
   "source": [
    "test_loss, test_acc = model.evaluate(test_images,  test_labels, verbose=1)\n"
   ]
  },
  {
   "cell_type": "code",
   "execution_count": null,
   "metadata": {
    "scrolled": true
   },
   "outputs": [],
   "source": [
    "img = tf.keras.preprocessing.image.img_to_array(train_images[20])"
   ]
  },
  {
   "cell_type": "markdown",
   "metadata": {
    "id": "lc86XPnSQKmT"
   },
   "source": [
    "## Data Augmentation"
   ]
  },
  {
   "cell_type": "code",
   "execution_count": null,
   "metadata": {
    "colab": {
     "base_uri": "https://localhost:8080/",
     "height": 1000
    },
    "id": "eZM-n2-uQUNS",
    "outputId": "2971942b-8f6a-463f-f010-a14d1bc69853"
   },
   "outputs": [],
   "source": [
    "from keras.preprocessing import image\n",
    "from keras.preprocessing.image import ImageDataGenerator\n",
    "\n",
    "# 創立一個能夠變化圖像的生成器，透過平移、置換、旋轉\n",
    "datagen = ImageDataGenerator(\n",
    "rotation_range=40,\n",
    "width_shift_range=0.2,\n",
    "height_shift_range=0.2,\n",
    "shear_range=0.2,\n",
    "zoom_range=0.2,\n",
    "horizontal_flip=True,\n",
    "fill_mode='nearest')\n",
    "\n",
    "test_img = train_images[20]\n",
    "img = tf.keras.preprocessing.image.img_to_array(test_img)  # To numpy arry\n",
    "img = img.reshape((1,) + img.shape) # add 1D，生成器只接受4維\n",
    "\n",
    "counter = 0\n",
    "\n",
    "for batch in datagen.flow(img, save_prefix='test', save_format='jpeg'):  # 無限迴圈，會將擴增Data並加以存取至生成器中\n",
    "    plt.figure(counter)\n",
    "    plot = plt.imshow(tf.keras.preprocessing.image.img_to_array(batch[0]))\n",
    "    counter += 1\n",
    "    if counter > 20:  # show times images\n",
    "        break\n",
    "\n",
    "plt.show()"
   ]
  },
  {
   "cell_type": "markdown",
   "metadata": {
    "id": "zaMcqF3eUeaI"
   },
   "source": [
    "## Pretrained Models\n",
    "\n",
    "使用預先訓練好的模組，大致上只需要調整最後幾層的數據就好"
   ]
  },
  {
   "cell_type": "code",
   "execution_count": null,
   "metadata": {
    "id": "EI_IdVtkUjXH"
   },
   "outputs": [],
   "source": [
    "import os\n",
    "import numpy as np\n",
    "import matplotlib.pyplot as plt\n",
    "import tensorflow as tf\n",
    "keras = tf.keras"
   ]
  },
  {
   "cell_type": "markdown",
   "metadata": {
    "id": "UlrmeptOVSZe"
   },
   "source": [
    "## DataSet\n",
    "\n",
    "Cat & Dog\n"
   ]
  },
  {
   "cell_type": "code",
   "execution_count": null,
   "metadata": {
    "id": "r41P8UR8VbDx"
   },
   "outputs": [],
   "source": [
    "import tensorflow_datasets as tfds\n",
    "tfds.disable_progress_bar()\n",
    "\n",
    "# Split data，0~80%是training，80~90%是validation，90~100%是testing\n",
    "(raw_train, raw_validation, raw_test), metadata = tfds.load(\n",
    "    'cats_vs_dogs',\n",
    "    split=['train[:80%]', 'train[80%:90%]', 'train[90%:]'],\n",
    "    with_info=True,\n",
    "    as_supervised=True,\n",
    ")"
   ]
  },
  {
   "cell_type": "code",
   "execution_count": null,
   "metadata": {
    "colab": {
     "base_uri": "https://localhost:8080/",
     "height": 1000
    },
    "id": "d3G9XWC-Zukb",
    "outputId": "bd62e50b-0baa-4fe3-a37e-026e74d3711a"
   },
   "outputs": [],
   "source": [
    "get_label_name = metadata.features['label'].int2str  # 創建一個我們可以用來獲取標籤的函數對象\n",
    "\n",
    "# 顯示DataSet images\n",
    "for image, label in raw_train.take(5):\n",
    "  plt.figure()\n",
    "  plt.imshow(image)\n",
    "  plt.title(get_label_name(label))"
   ]
  },
  {
   "cell_type": "markdown",
   "metadata": {
    "id": "7NQO_KemaGW7"
   },
   "source": [
    "## Data Preprocessing"
   ]
  },
  {
   "cell_type": "code",
   "execution_count": null,
   "metadata": {
    "id": "eq_By5U9aHTF"
   },
   "outputs": [],
   "source": [
    "IMG_SIZE = 160 \n",
    "\n",
    "def format_example(image, label):\n",
    "  image = tf.cast(image, tf.float32)\n",
    "  image = (image/127.5) - 1\n",
    "  image = tf.image.resize(image, (IMG_SIZE, IMG_SIZE))\n",
    "  return image, label"
   ]
  },
  {
   "cell_type": "code",
   "execution_count": null,
   "metadata": {
    "id": "hsIZEMi1a80T"
   },
   "outputs": [],
   "source": [
    "#用map調用Function調整所有images\n",
    "train = raw_train.map(format_example)\n",
    "validation = raw_validation.map(format_example)\n",
    "test = raw_test.map(format_example)"
   ]
  },
  {
   "cell_type": "code",
   "execution_count": null,
   "metadata": {
    "colab": {
     "base_uri": "https://localhost:8080/",
     "height": 580
    },
    "id": "DCfdLajrbV4L",
    "outputId": "78f59861-cda7-4545-b0b5-3fe8c267ef67"
   },
   "outputs": [],
   "source": [
    "for image, label in train.take(2):\n",
    "  plt.figure()\n",
    "  plt.imshow(image)\n",
    "  plt.title(get_label_name(label))"
   ]
  },
  {
   "cell_type": "code",
   "execution_count": null,
   "metadata": {
    "id": "KfcjC3OedyBJ"
   },
   "outputs": [],
   "source": [
    "BATCH_SIZE = 32\n",
    "SHUFFLE_BUFFER_SIZE = 1000\n",
    "\n",
    "train_batches = train.shuffle(SHUFFLE_BUFFER_SIZE).batch(BATCH_SIZE)\n",
    "validation_batches = validation.batch(BATCH_SIZE)\n",
    "test_batches = test.batch(BATCH_SIZE)"
   ]
  },
  {
   "cell_type": "markdown",
   "metadata": {
    "id": "EUIU8elsb6tN"
   },
   "source": [
    "## MobileNet V2\n",
    "預訓練的模組，該模型在 140 萬張圖像上進行了訓練，有 1000 個不同的類別。"
   ]
  },
  {
   "cell_type": "code",
   "execution_count": null,
   "metadata": {
    "id": "vOM1RZdabiPd"
   },
   "outputs": [],
   "source": [
    "base_model = tf.keras.applications.MobileNetV2(input_shape= (IMG_SIZE, IMG_SIZE, 3),\n",
    "                        include_top=False, # 只訓練2種類別(狗和貓)，不需要加載V2中所有的類別 \n",
    "                        weights='imagenet')"
   ]
  },
  {
   "cell_type": "code",
   "execution_count": null,
   "metadata": {
    "colab": {
     "base_uri": "https://localhost:8080/"
    },
    "id": "P3zGhTZJcvYU",
    "outputId": "f9fb8248-63e0-4da5-ac1d-94c27ebe6e42"
   },
   "outputs": [],
   "source": [
    "base_model.summary()"
   ]
  },
  {
   "cell_type": "markdown",
   "metadata": {
    "id": "X-bO_PNxdH8-"
   },
   "source": [
    "Base_model會輸出(32, 5, 5, 1280)，是原始影像(1, 160, 160, 3)提取的Feature，32代表有32個Filters。"
   ]
  },
  {
   "cell_type": "code",
   "execution_count": null,
   "metadata": {
    "colab": {
     "base_uri": "https://localhost:8080/"
    },
    "id": "1zLforYXdnte",
    "outputId": "4743ab08-3fa0-434b-f58e-a0a16e88e8a5"
   },
   "outputs": [],
   "source": [
    "for image, _ in train_batches.take(1):\n",
    "   pass\n",
    "\n",
    "feature_batch = base_model(image)\n",
    "print(feature_batch.shape)"
   ]
  },
  {
   "cell_type": "markdown",
   "metadata": {
    "id": "qirSBTO6eNYy"
   },
   "source": [
    "## Freezing the Base\n",
    "\n",
    "不凍結基本模組，就代表要全部重新訓練，那幹嘛還用別人的模組。"
   ]
  },
  {
   "cell_type": "code",
   "execution_count": null,
   "metadata": {
    "id": "POcY6dNMeYcV"
   },
   "outputs": [],
   "source": [
    "base_model.trainable = False "
   ]
  },
  {
   "cell_type": "markdown",
   "metadata": {
    "id": "JA6G5FrzgKgm"
   },
   "source": [
    "## Adding our own Classifier"
   ]
  },
  {
   "cell_type": "code",
   "execution_count": null,
   "metadata": {
    "id": "yRgmwaULgKK6"
   },
   "outputs": [],
   "source": [
    "global_average_layer = tf.keras.layers.GlobalAveragePooling2D() #取1280個Filters的avg延展到1D"
   ]
  },
  {
   "cell_type": "code",
   "execution_count": null,
   "metadata": {
    "id": "vfx3ivSLgr5s"
   },
   "outputs": [],
   "source": [
    "prediction_layer = keras.layers.Dense(1) #判斷是狗是貓"
   ]
  },
  {
   "cell_type": "code",
   "execution_count": null,
   "metadata": {
    "id": "oC48KhXag4Fb"
   },
   "outputs": [],
   "source": [
    "#Add our own layer\n",
    "model = tf.keras.Sequential([\n",
    "  base_model,\n",
    "  global_average_layer,\n",
    "  prediction_layer\n",
    "])"
   ]
  },
  {
   "cell_type": "code",
   "execution_count": null,
   "metadata": {
    "colab": {
     "base_uri": "https://localhost:8080/"
    },
    "id": "ayxvUNv1hBMI",
    "outputId": "418e0f74-a264-49fc-e78b-ea19cb949c10"
   },
   "outputs": [],
   "source": [
    "model.summary()"
   ]
  },
  {
   "cell_type": "markdown",
   "metadata": {
    "id": "K5eR4NAIhbCd"
   },
   "source": [
    "## Training"
   ]
  },
  {
   "cell_type": "code",
   "execution_count": null,
   "metadata": {
    "id": "nBs1o_syhW7A"
   },
   "outputs": [],
   "source": [
    "base_learning_rate = 0.0001 #不更改原本的權重\n",
    "model.compile(optimizer=tf.keras.optimizers.RMSprop(lr=base_learning_rate),\n",
    "              loss=tf.keras.losses.BinaryCrossentropy(from_logits=True),\n",
    "              metrics=['accuracy'])"
   ]
  },
  {
   "cell_type": "code",
   "execution_count": null,
   "metadata": {
    "colab": {
     "base_uri": "https://localhost:8080/"
    },
    "id": "rS1J2gqslqvC",
    "outputId": "fce11f22-cf8c-44cf-e789-d0398dbf9238"
   },
   "outputs": [],
   "source": [
    "# 更改前\n",
    "initial_epochs = 3\n",
    "validation_steps=20\n",
    "\n",
    "loss0,accuracy0 = model.evaluate(validation_batches, steps = validation_steps)"
   ]
  },
  {
   "cell_type": "code",
   "execution_count": null,
   "metadata": {
    "colab": {
     "base_uri": "https://localhost:8080/"
    },
    "id": "V44frnFTl3Kn",
    "outputId": "cc545f9b-ace1-41d3-c30b-33272caa3ab6"
   },
   "outputs": [],
   "source": [
    "history = model.fit(train_batches,\n",
    "          epochs=initial_epochs,\n",
    "          validation_data=validation_batches)\n",
    "\n",
    "acc = history.history['accuracy']\n",
    "print(acc)"
   ]
  },
  {
   "cell_type": "code",
   "execution_count": null,
   "metadata": {
    "id": "tSdlZnXC59Jo"
   },
   "outputs": [],
   "source": [
    "model.save(\"dogs_vs_cats.h5\")\n",
    "new_model = tf.keras.models.load_model('dogs_vs_cats.h5')"
   ]
  }
 ],
 "metadata": {
  "colab": {
   "include_colab_link": true,
   "provenance": []
  },
  "kernelspec": {
   "display_name": "Python 3 (ipykernel)",
   "language": "python",
   "name": "python3"
  },
  "language_info": {
   "codemirror_mode": {
    "name": "ipython",
    "version": 3
   },
   "file_extension": ".py",
   "mimetype": "text/x-python",
   "name": "python",
   "nbconvert_exporter": "python",
   "pygments_lexer": "ipython3",
   "version": "3.7.9"
  }
 },
 "nbformat": 4,
 "nbformat_minor": 1
}
